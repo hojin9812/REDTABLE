{
 "cells": [
  {
   "cell_type": "markdown",
   "metadata": {},
   "source": [
    "## 1. 사전 준비"
   ]
  },
  {
   "cell_type": "markdown",
   "metadata": {},
   "source": [
    "### 0. 필요 라이브러리 호출"
   ]
  },
  {
   "cell_type": "code",
   "execution_count": 1,
   "metadata": {},
   "outputs": [],
   "source": [
    "import datetime as dt, pandas as pd, numpy as np, datetime as dt\n",
    "import pymysql, re, os\n",
    "from pathlib import Path\n",
    "from tqdm import tqdm\n",
    "import collections\n",
    "import gspread\n",
    "import time\n",
    "import copy\n",
    "\n",
    "from haversine import haversine\n",
    "from sklearn.metrics.pairwise import cosine_similarity\n",
    "from sklearn.preprocessing import MinMaxScaler\n",
    "from scipy.stats import pearsonr\n",
    "\n",
    "\n",
    "def live_db_conn():\n",
    "    conn = pymysql.connect(host='host', user='user', password='password',autocommit=True,cursorclass=pymysql.cursors.DictCursor, db = \"database\")\n",
    "    return conn\n",
    "\n",
    "\n",
    "def dev_db_conn():\n",
    "    conn = pymysql.connect(host='host', user='user', password='password',autocommit=True,cursorclass=pymysql.cursors.DictCursor)\n",
    "    return conn\n",
    "\n",
    "\n",
    "pd.set_option('display.max_columns', None)\n",
    "\n",
    "import warnings\n",
    "\n",
    "warnings.simplefilter(action='ignore', category=pd.errors.PerformanceWarning)\n",
    "warnings.simplefilter(action='ignore', category=UserWarning)"
   ]
  },
  {
   "cell_type": "markdown",
   "metadata": {},
   "source": [
    "### 1. 메뉴 사전"
   ]
  },
  {
   "cell_type": "code",
   "execution_count": 2,
   "metadata": {},
   "outputs": [
    {
     "data": {
      "text/html": [
       "<div>\n",
       "<style scoped>\n",
       "    .dataframe tbody tr th:only-of-type {\n",
       "        vertical-align: middle;\n",
       "    }\n",
       "\n",
       "    .dataframe tbody tr th {\n",
       "        vertical-align: top;\n",
       "    }\n",
       "\n",
       "    .dataframe thead th {\n",
       "        text-align: right;\n",
       "    }\n",
       "</style>\n",
       "<table border=\"1\" class=\"dataframe\">\n",
       "  <thead>\n",
       "    <tr style=\"text-align: right;\">\n",
       "      <th></th>\n",
       "      <th>SRC</th>\n",
       "      <th>KO</th>\n",
       "      <th>EN</th>\n",
       "      <th>EN_IS_USE</th>\n",
       "      <th>CN</th>\n",
       "      <th>CN_IS_USE</th>\n",
       "      <th>JP</th>\n",
       "      <th>JP_IS_USE</th>\n",
       "      <th>TW</th>\n",
       "      <th>TW_IS_USE</th>\n",
       "    </tr>\n",
       "  </thead>\n",
       "  <tbody>\n",
       "    <tr>\n",
       "      <th>0</th>\n",
       "      <td>한국관광공사</td>\n",
       "      <td>전복초</td>\n",
       "      <td>Braised Abalone</td>\n",
       "      <td>TRUE</td>\n",
       "      <td>炖鲍鱼(酱炖)</td>\n",
       "      <td>TRUE</td>\n",
       "      <td>アワビの煮付け</td>\n",
       "      <td>TRUE</td>\n",
       "      <td>醬燒鮑魚</td>\n",
       "      <td>TRUE</td>\n",
       "    </tr>\n",
       "    <tr>\n",
       "      <th>1</th>\n",
       "      <td>한국관광공사</td>\n",
       "      <td>전복조림</td>\n",
       "      <td>Braised Abalone</td>\n",
       "      <td>TRUE</td>\n",
       "      <td>炖鲍鱼</td>\n",
       "      <td>TRUE</td>\n",
       "      <td>アワビの煮付け</td>\n",
       "      <td>TRUE</td>\n",
       "      <td>醬燒鮑魚</td>\n",
       "      <td>TRUE</td>\n",
       "    </tr>\n",
       "    <tr>\n",
       "      <th>2</th>\n",
       "      <td>한국관광공사</td>\n",
       "      <td>전복정식</td>\n",
       "      <td>Abalone Set Menu</td>\n",
       "      <td>TRUE</td>\n",
       "      <td>鲍鱼套餐</td>\n",
       "      <td>TRUE</td>\n",
       "      <td>アワビ定食</td>\n",
       "      <td>TRUE</td>\n",
       "      <td>鮑魚套餐</td>\n",
       "      <td>TRUE</td>\n",
       "    </tr>\n",
       "    <tr>\n",
       "      <th>3</th>\n",
       "      <td>한국관광공사</td>\n",
       "      <td>전복전골</td>\n",
       "      <td>Abalone Hot Pot</td>\n",
       "      <td>TRUE</td>\n",
       "      <td>鲍鱼火锅</td>\n",
       "      <td>TRUE</td>\n",
       "      <td>アワビの寄せ鍋</td>\n",
       "      <td>TRUE</td>\n",
       "      <td>鮑魚火鍋</td>\n",
       "      <td>TRUE</td>\n",
       "    </tr>\n",
       "    <tr>\n",
       "      <th>4</th>\n",
       "      <td>한국관광공사</td>\n",
       "      <td>전복장아찌</td>\n",
       "      <td>Pickled Abalone</td>\n",
       "      <td>TRUE</td>\n",
       "      <td>鲍鱼酱菜</td>\n",
       "      <td>TRUE</td>\n",
       "      <td>アワビの漬物</td>\n",
       "      <td>TRUE</td>\n",
       "      <td>鮑魚醬菜</td>\n",
       "      <td>TRUE</td>\n",
       "    </tr>\n",
       "  </tbody>\n",
       "</table>\n",
       "</div>"
      ],
      "text/plain": [
       "      SRC     KO                EN EN_IS_USE       CN CN_IS_USE       JP  \\\n",
       "0  한국관광공사    전복초   Braised Abalone      TRUE  炖鲍鱼(酱炖)      TRUE  アワビの煮付け   \n",
       "1  한국관광공사   전복조림   Braised Abalone      TRUE      炖鲍鱼      TRUE  アワビの煮付け   \n",
       "2  한국관광공사   전복정식  Abalone Set Menu      TRUE     鲍鱼套餐      TRUE    アワビ定食   \n",
       "3  한국관광공사   전복전골   Abalone Hot Pot      TRUE     鲍鱼火锅      TRUE  アワビの寄せ鍋   \n",
       "4  한국관광공사  전복장아찌   Pickled Abalone      TRUE     鲍鱼酱菜      TRUE   アワビの漬物   \n",
       "\n",
       "  JP_IS_USE    TW TW_IS_USE  \n",
       "0      TRUE  醬燒鮑魚      TRUE  \n",
       "1      TRUE  醬燒鮑魚      TRUE  \n",
       "2      TRUE  鮑魚套餐      TRUE  \n",
       "3      TRUE  鮑魚火鍋      TRUE  \n",
       "4      TRUE  鮑魚醬菜      TRUE  "
      ]
     },
     "execution_count": 2,
     "metadata": {},
     "output_type": "execute_result"
    }
   ],
   "source": [
    "conn = pymysql.connect(host='host', user='user', password='password', cursorclass = pymysql.cursors.DictCursor)\n",
    "curs = conn.cursor()\n",
    "\n",
    "sql = \"\"\"\n",
    "        SELECT * FROM dictionary.dic_menu;\n",
    "      \"\"\"\n",
    "curs.execute(sql)\n",
    "dictionary_menu_df = pd.DataFrame(curs.fetchall())\n",
    "\n",
    "curs.close()\n",
    "conn.close()\n",
    "\n",
    "official_menu_df = dictionary_menu_df[dictionary_menu_df['SRC']!='레드테이블']\n",
    "official_menu_df.head()"
   ]
  },
  {
   "cell_type": "markdown",
   "metadata": {},
   "source": [
    "### 2. 메뉴 제외 및 추가 리스트"
   ]
  },
  {
   "cell_type": "code",
   "execution_count": 3,
   "metadata": {},
   "outputs": [],
   "source": [
    "ban_list = pd.read_excel('../refer/final_ban_list.xlsx').dropna()\n",
    "\n",
    "ban_list = ban_list['name'].tolist()\n",
    "\n",
    "add_list = pd.read_excel('../refer/final_add_list.xlsx').dropna()\n",
    "\n",
    "add_list = add_list['메뉴'].tolist()"
   ]
  },
  {
   "cell_type": "markdown",
   "metadata": {},
   "source": [
    "### 3. 대한민국 행정구역 데이터"
   ]
  },
  {
   "cell_type": "code",
   "execution_count": 4,
   "metadata": {},
   "outputs": [],
   "source": [
    "bjd = pd.read_csv('../refer/법정동 정보.csv',encoding='cp949')[['bjd_nm','sd_nm','sgg_nm','emd_nm']]\n",
    "bjd = bjd[bjd['emd_nm'].notnull()]\n",
    "\n",
    "sd_list = bjd['sd_nm'].unique().tolist()\n",
    "\n",
    "KORLOC_dic = {}\n",
    "\n",
    "# 지역별 시군구 딕셔너리 생성\n",
    "for sd in sd_list:\n",
    "    \n",
    "    if sd == '서울특별시':\n",
    "        \n",
    "        sgg_list = bjd[bjd['sd_nm'] == sd]['sgg_nm'].unique().tolist()\n",
    "\n",
    "        KORLOC_dic[sd] = sgg_list\n",
    "\n",
    "    elif sd == '세종특별자치시':\n",
    "\n",
    "        emd_list = bjd[bjd['sd_nm'] == sd]['emd_nm'].unique().tolist()\n",
    "        KORLOC_dic[sd] = emd_list\n",
    "\n",
    "    elif sd == '강원도':\n",
    "\n",
    "        sgg_list = bjd[bjd['sd_nm'] == sd]['sgg_nm'].unique().tolist()\n",
    "        KORLOC_dic['강원특별자치도'] = sgg_list\n",
    "\n",
    "    else:\n",
    "\n",
    "        sgg_list = bjd[bjd['sd_nm'] == sd]['sgg_nm'].unique().tolist()\n",
    "        KORLOC_dic[sd] = sgg_list\n",
    "\n",
    "KORLOC_dic = {k:list(set([i.split(' ')[0] for i in v])) for k,v in KORLOC_dic.items()}"
   ]
  },
  {
   "cell_type": "markdown",
   "metadata": {},
   "source": [
    "## 2. 알고리즘\n",
    "\n",
    "##### 1. TF-IDF 순으로 정렬\n",
    "##### 2. 해당 지역에 해당 메뉴를 판매하는 매장의 개수를 계산\n",
    "##### 3. 본 메뉴를 최종 머스트잇으로 선정하기 위해, 2번의 합(매장 개수)에 따라 최종적으로 해당 메뉴를 포함하는 매장이 몇개 이상이어야 하는지를 정함 (임의로 데이터 보고 선정, 호진 주관 개입)\n",
    "- 평균적으로 100개 미만인 지역들은 최소 매장 수 5개 / 100개 이상 200개 미만 10개 /200개 이상 600개 미만 15개 /600개 이상 ~ 40개\n",
    "##### 4. 선정된 개수를 통해 해당 개수보다 많은 경우의 메뉴들만 최종 머스트잇으로 선정 "
   ]
  },
  {
   "cell_type": "code",
   "execution_count": 40,
   "metadata": {},
   "outputs": [
    {
     "name": "stderr",
     "output_type": "stream",
     "text": [
      "  0%|          | 0/17 [00:00<?, ?it/s]"
     ]
    },
    {
     "name": "stdout",
     "output_type": "stream",
     "text": [
      "====================================\n",
      "<1. 서울특별시>\n",
      "Part 1. 지역 별 메뉴 카운트\n",
      "Part 2. 지역 메뉴 TF-IDF\n",
      "Part 3. 지역 메뉴 TF-IDF 및 포함 매장 수\n",
      "Part 4. 지역 필터 적용 후 최종 데이터프레임 생성\n",
      "====================================\n"
     ]
    },
    {
     "name": "stderr",
     "output_type": "stream",
     "text": [
      "  6%|▌         | 1/17 [40:51<10:53:39, 2451.25s/it]"
     ]
    },
    {
     "name": "stdout",
     "output_type": "stream",
     "text": [
      "====================================\n",
      "<2. 부산광역시>\n",
      "Part 1. 지역 별 메뉴 카운트\n",
      "Part 2. 지역 메뉴 TF-IDF\n"
     ]
    },
    {
     "name": "stderr",
     "output_type": "stream",
     "text": [
      " 12%|█▏        | 2/17 [51:40<5:47:47, 1391.18s/it] "
     ]
    },
    {
     "name": "stdout",
     "output_type": "stream",
     "text": [
      "Part 3. 지역 메뉴 TF-IDF 및 포함 매장 수\n",
      "Part 4. 지역 필터 적용 후 최종 데이터프레임 생성\n",
      "====================================\n",
      "====================================\n",
      "<3. 대구광역시>\n",
      "Part 1. 지역 별 메뉴 카운트\n",
      "Part 2. 지역 메뉴 TF-IDF\n"
     ]
    },
    {
     "name": "stderr",
     "output_type": "stream",
     "text": [
      " 18%|█▊        | 3/17 [55:47<3:22:44, 868.91s/it] "
     ]
    },
    {
     "name": "stdout",
     "output_type": "stream",
     "text": [
      "Part 3. 지역 메뉴 TF-IDF 및 포함 매장 수\n",
      "Part 4. 지역 필터 적용 후 최종 데이터프레임 생성\n",
      "====================================\n",
      "====================================\n",
      "<4. 인천광역시>\n",
      "Part 1. 지역 별 메뉴 카운트\n",
      "Part 2. 지역 메뉴 TF-IDF\n"
     ]
    },
    {
     "name": "stderr",
     "output_type": "stream",
     "text": [
      " 24%|██▎       | 4/17 [1:01:25<2:22:51, 659.38s/it]"
     ]
    },
    {
     "name": "stdout",
     "output_type": "stream",
     "text": [
      "Part 3. 지역 메뉴 TF-IDF 및 포함 매장 수\n",
      "Part 4. 지역 필터 적용 후 최종 데이터프레임 생성\n",
      "====================================\n",
      "====================================\n",
      "<5. 광주광역시>\n",
      "Part 1. 지역 별 메뉴 카운트\n",
      "Part 2. 지역 메뉴 TF-IDF\n"
     ]
    },
    {
     "name": "stderr",
     "output_type": "stream",
     "text": [
      " 29%|██▉       | 5/17 [1:08:06<1:53:14, 566.19s/it]"
     ]
    },
    {
     "name": "stdout",
     "output_type": "stream",
     "text": [
      "Part 3. 지역 메뉴 TF-IDF 및 포함 매장 수\n",
      "Part 4. 지역 필터 적용 후 최종 데이터프레임 생성\n",
      "====================================\n",
      "====================================\n",
      "<6. 대전광역시>\n",
      "Part 1. 지역 별 메뉴 카운트\n",
      "Part 2. 지역 메뉴 TF-IDF\n"
     ]
    },
    {
     "name": "stderr",
     "output_type": "stream",
     "text": [
      " 35%|███▌      | 6/17 [1:10:56<1:19:06, 431.50s/it]"
     ]
    },
    {
     "name": "stdout",
     "output_type": "stream",
     "text": [
      "Part 3. 지역 메뉴 TF-IDF 및 포함 매장 수\n",
      "Part 4. 지역 필터 적용 후 최종 데이터프레임 생성\n",
      "====================================\n",
      "====================================\n",
      "<7. 울산광역시>\n",
      "Part 1. 지역 별 메뉴 카운트\n",
      "Part 2. 지역 메뉴 TF-IDF\n"
     ]
    },
    {
     "name": "stderr",
     "output_type": "stream",
     "text": [
      " 41%|████      | 7/17 [1:13:34<57:00, 342.08s/it]  "
     ]
    },
    {
     "name": "stdout",
     "output_type": "stream",
     "text": [
      "Part 3. 지역 메뉴 TF-IDF 및 포함 매장 수\n",
      "Part 4. 지역 필터 적용 후 최종 데이터프레임 생성\n",
      "====================================\n",
      "====================================\n",
      "<8. 세종특별자치시>\n",
      "Part 1. 지역 별 메뉴 카운트\n",
      "Part 2. 지역 메뉴 TF-IDF\n",
      "Part 3. 지역 메뉴 TF-IDF 및 포함 매장 수\n",
      "Part 4. 지역 필터 적용 후 최종 데이터프레임 생성\n"
     ]
    },
    {
     "name": "stderr",
     "output_type": "stream",
     "text": [
      " 47%|████▋     | 8/17 [1:14:18<37:04, 247.11s/it]"
     ]
    },
    {
     "name": "stdout",
     "output_type": "stream",
     "text": [
      "====================================\n",
      "====================================\n",
      "<9. 경기도>\n",
      "Part 1. 지역 별 메뉴 카운트\n",
      "Part 2. 지역 메뉴 TF-IDF\n",
      "Part 3. 지역 메뉴 TF-IDF 및 포함 매장 수\n",
      "Part 4. 지역 필터 적용 후 최종 데이터프레임 생성\n",
      "====================================\n"
     ]
    },
    {
     "name": "stderr",
     "output_type": "stream",
     "text": [
      " 53%|█████▎    | 9/17 [1:36:59<1:19:22, 595.34s/it]"
     ]
    },
    {
     "name": "stdout",
     "output_type": "stream",
     "text": [
      "====================================\n",
      "<10. 강원특별자치도>\n",
      "Part 1. 지역 별 메뉴 카운트\n",
      "Part 2. 지역 메뉴 TF-IDF\n"
     ]
    },
    {
     "name": "stderr",
     "output_type": "stream",
     "text": [
      " 59%|█████▉    | 10/17 [1:44:41<1:04:38, 554.04s/it]"
     ]
    },
    {
     "name": "stdout",
     "output_type": "stream",
     "text": [
      "Part 3. 지역 메뉴 TF-IDF 및 포함 매장 수\n",
      "Part 4. 지역 필터 적용 후 최종 데이터프레임 생성\n",
      "====================================\n",
      "====================================\n",
      "<11. 충청북도>\n",
      "Part 1. 지역 별 메뉴 카운트\n",
      "Part 2. 지역 메뉴 TF-IDF\n"
     ]
    },
    {
     "name": "stderr",
     "output_type": "stream",
     "text": [
      " 65%|██████▍   | 11/17 [1:47:29<43:35, 435.88s/it]  "
     ]
    },
    {
     "name": "stdout",
     "output_type": "stream",
     "text": [
      "Part 3. 지역 메뉴 TF-IDF 및 포함 매장 수\n",
      "Part 4. 지역 필터 적용 후 최종 데이터프레임 생성\n",
      "====================================\n",
      "====================================\n",
      "<12. 충청남도>\n",
      "Part 1. 지역 별 메뉴 카운트\n",
      "Part 2. 지역 메뉴 TF-IDF\n"
     ]
    },
    {
     "name": "stderr",
     "output_type": "stream",
     "text": [
      " 71%|███████   | 12/17 [1:51:07<30:47, 369.58s/it]"
     ]
    },
    {
     "name": "stdout",
     "output_type": "stream",
     "text": [
      "Part 3. 지역 메뉴 TF-IDF 및 포함 매장 수\n",
      "Part 4. 지역 필터 적용 후 최종 데이터프레임 생성\n",
      "====================================\n",
      "====================================\n",
      "<13. 전라북도>\n",
      "Part 1. 지역 별 메뉴 카운트\n",
      "Part 2. 지역 메뉴 TF-IDF\n"
     ]
    },
    {
     "name": "stderr",
     "output_type": "stream",
     "text": [
      " 76%|███████▋  | 13/17 [1:57:56<25:25, 381.50s/it]"
     ]
    },
    {
     "name": "stdout",
     "output_type": "stream",
     "text": [
      "Part 3. 지역 메뉴 TF-IDF 및 포함 매장 수\n",
      "Part 4. 지역 필터 적용 후 최종 데이터프레임 생성\n",
      "====================================\n",
      "====================================\n",
      "<14. 전라남도>\n",
      "Part 1. 지역 별 메뉴 카운트\n",
      "Part 2. 지역 메뉴 TF-IDF\n",
      "Part 3. 지역 메뉴 TF-IDF 및 포함 매장 수\n",
      "Part 4. 지역 필터 적용 후 최종 데이터프레임 생성\n",
      "====================================\n"
     ]
    },
    {
     "name": "stderr",
     "output_type": "stream",
     "text": [
      " 82%|████████▏ | 14/17 [2:06:03<20:40, 413.35s/it]"
     ]
    },
    {
     "name": "stdout",
     "output_type": "stream",
     "text": [
      "====================================\n",
      "<15. 경상북도>\n",
      "Part 1. 지역 별 메뉴 카운트\n",
      "Part 2. 지역 메뉴 TF-IDF\n",
      "Part 3. 지역 메뉴 TF-IDF 및 포함 매장 수\n",
      "Part 4. 지역 필터 적용 후 최종 데이터프레임 생성\n",
      "====================================\n"
     ]
    },
    {
     "name": "stderr",
     "output_type": "stream",
     "text": [
      " 88%|████████▊ | 15/17 [2:10:57<12:35, 377.56s/it]"
     ]
    },
    {
     "name": "stdout",
     "output_type": "stream",
     "text": [
      "====================================\n",
      "<16. 경상남도>\n",
      "Part 1. 지역 별 메뉴 카운트\n",
      "Part 2. 지역 메뉴 TF-IDF\n"
     ]
    },
    {
     "name": "stderr",
     "output_type": "stream",
     "text": [
      " 94%|█████████▍| 16/17 [2:18:04<06:32, 392.39s/it]"
     ]
    },
    {
     "name": "stdout",
     "output_type": "stream",
     "text": [
      "Part 3. 지역 메뉴 TF-IDF 및 포함 매장 수\n",
      "Part 4. 지역 필터 적용 후 최종 데이터프레임 생성\n",
      "====================================\n",
      "====================================\n",
      "<17. 제주특별자치도>\n",
      "Part 1. 지역 별 메뉴 카운트\n",
      "Part 2. 지역 메뉴 TF-IDF\n"
     ]
    },
    {
     "name": "stderr",
     "output_type": "stream",
     "text": [
      "100%|██████████| 17/17 [2:20:09<00:00, 494.67s/it]"
     ]
    },
    {
     "name": "stdout",
     "output_type": "stream",
     "text": [
      "Part 3. 지역 메뉴 TF-IDF 및 포함 매장 수\n",
      "Part 4. 지역 필터 적용 후 최종 데이터프레임 생성\n",
      "====================================\n"
     ]
    },
    {
     "name": "stderr",
     "output_type": "stream",
     "text": [
      "\n"
     ]
    }
   ],
   "source": [
    "seoul_list = ['종로구', '중구', '용산구', '성동구', '광진구', '동대문구', '중랑구', '성북구', '강북구', '도봉구', '노원구', '은평구', '서대문구', '마포구', '양천구', '강서구', '구로구', '금천구', '영등포구', '동작구', '관악구', '서초구', '강남구', '송파구', '강동구']\n",
    "\n",
    "conn = live_db_conn()\n",
    "curs = conn.cursor()\n",
    "\n",
    "sql = \"\"\"\n",
    "        SELECT * From must_eat;\n",
    "      \"\"\"\n",
    "curs.execute(sql)\n",
    "must_eat = pd.DataFrame(curs.fetchall())\n",
    "\n",
    "curs.close()\n",
    "conn.close()\n",
    "\n",
    "must_eat_name = must_eat['name'].tolist()\n",
    "ko_list = official_menu_df['KO'].tolist()\n",
    "\n",
    "total_list = ko_list + must_eat_name + add_list\n",
    "total_set = set(total_list) # remove duplicates\n",
    "total_list = sorted(list(total_set),reverse=True,key=len)\n",
    "total_list = [x.replace(' ','') for x in total_list]\n",
    "\n",
    "# 메뉴 별 메뉴 포함 매장 딕셔너리\n",
    "menu_store = {}\n",
    "no_data_area = []\n",
    "idx = 0\n",
    "no_data_food = []\n",
    "for province, areas in tqdm((KORLOC_dic.items())):\n",
    "    idx += 1\n",
    "    print('====================================')\n",
    "    print('<{}. {}>'.format(idx, province))\n",
    "    print('Part 1. 지역 별 메뉴 카운트')\n",
    "    total = pd.DataFrame()\n",
    "\n",
    "    for area in areas:\n",
    "        \n",
    "        total_location = province + ' ' + area\n",
    "        conn = live_db_conn()\n",
    "        curs = conn.cursor()\n",
    "\n",
    "        # is_main, normal 수정: status가 hold이지만 네이버 지도에서는 정상 운영인 경우가 존재, main 메뉴가 너무 적음\n",
    "        # 서울의 경우는 is_main 메뉴만\n",
    "        if province in seoul_list:\n",
    "\n",
    "            sql = \"\"\"\n",
    "            SELECT s.id, s.name as store_name, s.address, p.id as product_id, p.name as product_name\n",
    "            FROM product p\n",
    "            inner join store s\n",
    "            on p.store_id = s.id\n",
    "            where s.address like '%{}%'\n",
    "            and p.name != ''\n",
    "            and p.name is not null\n",
    "            and p.is_main = 1\n",
    "            \"\"\".format(total_location)\n",
    "\n",
    "        else:\n",
    "            \n",
    "            sql = \"\"\"\n",
    "            SELECT s.id, s.name as store_name, s.address, p.id as product_id, p.name as product_name\n",
    "            FROM product p\n",
    "            inner join store s\n",
    "            on p.store_id = s.id\n",
    "            where s.address like '%{}%'\n",
    "            and p.name != ''\n",
    "            and p.name is not null\n",
    "            \"\"\".format(total_location)\n",
    "\n",
    "        curs.execute(sql)\n",
    "\n",
    "        label_df = pd.DataFrame(curs.fetchall())\n",
    "\n",
    "        curs.close()\n",
    "        conn.close()\n",
    "\n",
    "        if len(label_df) == 0:\n",
    "            no_data_area.append(province + ' ' + area)\n",
    "            continue\n",
    "\n",
    "        else:\n",
    "        \n",
    "            label_df['product_name'] = label_df['product_name'].apply(lambda x:x.replace(' ',''))\n",
    "            \n",
    "            # 메뉴별 카운트 딕셔너리\n",
    "            menu_count_break = {}\n",
    "    \n",
    "            for menu in total_list:\n",
    "                \n",
    "                menu_count_break[menu] = 0\n",
    "                \n",
    "                menu_store[total_location + ' ' + menu] = set()\n",
    "\n",
    "            # 메뉴별 이미 한 매장에서 등록이 되었다면 중복카운트되지 않도록 하기 위한 딕셔너리     \n",
    "            menu_state = {key:False for key in menu_count_break.keys()}\n",
    "\n",
    "            store_product = zip(label_df['id'].values, label_df['product_name'].values)\n",
    "            store_product_list = [[a,b] for a,b in store_product]\n",
    "\n",
    "            sorted_list = sorted(store_product_list, key=lambda x:len(x[1]), reverse=True)\n",
    "            \n",
    "            for vals in sorted_list:\n",
    "                e_b = True\n",
    "                store_id = vals[0]\n",
    "                menu = vals[1]\n",
    "                \n",
    "                for key in menu_count_break.keys(): # 공식 메뉴\n",
    "                    # 공식 메뉴 이름이 매장 메뉴에 있으면\n",
    "                    if key in menu:\n",
    "                        # 근데 이미 이미 그 매장에서 등록이 되었다면(True)\n",
    "                        if menu_state[key]:\n",
    "                            #통과\n",
    "                            continue\n",
    "\n",
    "                        else:\n",
    "                            # 메뉴 카운트 +1 해주고\n",
    "                            menu_count_break[key]+=1\n",
    "                            # 해당 메뉴를 포함하는 매장 딕셔너리에 추가\n",
    "                            menu_store[total_location + ' ' + key].add(store_id)\n",
    "                            # 해당 매장에서 해당 메뉴는 Count됐으므로 통과\n",
    "                            menu_state[key]=True\n",
    "                            e_b=False\n",
    "                            break\n",
    "\n",
    "                if e_b:\n",
    "                    no_data_food.append(menu)\n",
    "\n",
    "                menu_state = {key:False for key in menu_count_break.keys()}\n",
    "\n",
    "\n",
    "            \n",
    "            menu_count_break = {k:v for k,v in menu_count_break.items() if k not in ban_list}\n",
    "            sorted_menu_dictionary = sorted(menu_count_break.items(), key = lambda item: item[1], reverse=True)\n",
    "            \n",
    "            loc_count = pd.DataFrame(sorted_menu_dictionary, columns=['메뉴','TF-IDF'])\n",
    "            loc_count = loc_count[loc_count['TF-IDF'] != 0]\n",
    "            \n",
    "            temp = loc_count.transpose()\n",
    "            temp = temp.rename(columns=temp.iloc[0]).iloc[1:]\n",
    "            temp.index = [area]\n",
    "\n",
    "            total = pd.concat([total,temp])\n",
    "\n",
    "    \n",
    "\n",
    "    print('Part 2. 지역 메뉴 TF-IDF')\n",
    "    tf = total.fillna(0)\n",
    "    tf_sum = tf.astype(bool).sum(axis = 0)\n",
    "    # 문서 개수\n",
    "    tf_len = len(tf_sum)\n",
    "    # Inverse Document Frequency\n",
    "    idf = np.log((tf_len) / (tf_sum+1))\n",
    "    tfidf = tf * idf                      \n",
    "    tfidf = tfidf / np.linalg.norm(tfidf, axis = 1, keepdims = True)\n",
    "    trsp = tfidf.transpose()\n",
    "    trsp.columns = tfidf.index\n",
    "\n",
    "    excel_df = pd.DataFrame(columns=['지역','메뉴','TF-IDF','메뉴 포함 매장','메뉴 포함 매장 수','해당 지역 메뉴 포함 매장 수(공통)'])\n",
    "\n",
    "    print('Part 3. 지역 메뉴 TF-IDF 및 포함 매장 수')\n",
    "    for area in trsp.columns:\n",
    "        \n",
    "        total_location = province + ' ' + area\n",
    "        tmp_df = pd.DataFrame(trsp.sort_values(by=area, ascending=False).head(50)[area])\n",
    "        tmp_df['지역'] = total_location\n",
    "        tmp_df['메뉴'] = tmp_df.index\n",
    "        \n",
    "        tmp_df['메뉴 포함 매장'] = tmp_df['메뉴'].apply(lambda x:menu_store[total_location + ' ' + x])\n",
    "        tmp_df['메뉴 포함 매장 수'] = tmp_df['메뉴 포함 매장'].apply(lambda x:len(x))\n",
    "        temp_set = set()\n",
    "\n",
    "        for store in tmp_df[tmp_df['지역']==total_location]['메뉴 포함 매장']:\n",
    "            temp_set.update(store)\n",
    "            \n",
    "        tmp_df['해당 지역 메뉴 포함 매장 수(공통)'] = len(temp_set)\n",
    "        tmp_df['TF-IDF'] = tmp_df[area]\n",
    "        tmp_df = tmp_df[tmp_df['메뉴 포함 매장'] != set()]\n",
    "        tmp_df = tmp_df[['지역','메뉴','TF-IDF','메뉴 포함 매장','메뉴 포함 매장 수','해당 지역 메뉴 포함 매장 수(공통)']]\n",
    "        tmp_df.reset_index(inplace=True)\n",
    "        tmp_df.drop(columns='index',inplace=True)\n",
    "        tmp_df.sort_values(by='메뉴 포함 매장 수', ascending=False,inplace=True)\n",
    "        excel_df = pd.concat([excel_df,tmp_df],axis=0)\n",
    "\n",
    "    final_df = pd.DataFrame(columns=excel_df.columns)\n",
    "    \n",
    "    print('Part 4. 지역 필터 적용 후 최종 데이터프레임 생성')\n",
    "    for area in trsp.columns:\n",
    "\n",
    "        filter_dic = {}\n",
    "\n",
    "        temp_area = province + ' ' + area\n",
    "\n",
    "        temp_df = excel_df[excel_df['지역']==temp_area]\n",
    "\n",
    "        loc_total = temp_df['해당 지역 메뉴 포함 매장 수(공통)'].unique().tolist()[0]\n",
    "\n",
    "        if loc_total < 100:\n",
    "\n",
    "            filter_dic[temp_area] = 5  \n",
    "\n",
    "        elif loc_total >= 100 and loc_total < 200:\n",
    "\n",
    "            filter_dic[temp_area] = 10 \n",
    "\n",
    "        elif loc_total >= 200 and loc_total < 600:\n",
    "\n",
    "            filter_dic[temp_area] = 15\n",
    "\n",
    "        else:\n",
    "            filter_dic[temp_area] = 40\n",
    "\n",
    "\n",
    "        loc_avg = temp_df['메뉴 포함 매장 수'].mean()\n",
    "\n",
    "        final_filter_count = min(filter_dic[temp_area],loc_avg)\n",
    "\n",
    "        temp_final = temp_df[temp_df['메뉴 포함 매장 수']>=final_filter_count]\n",
    "    \n",
    "        final_df = pd.concat([final_df,temp_final], axis=0)\n",
    "\n",
    "    final_df['단위'] = final_df['지역'].apply(lambda x:x.split(' ')[0])\n",
    "\n",
    "    print('====================================')\n",
    "    final_df.to_excel('../0824_output/{}.xlsx'.format(province),index=False)"
   ]
  },
  {
   "cell_type": "markdown",
   "metadata": {},
   "source": [
    "## 3. 결과 정리"
   ]
  },
  {
   "cell_type": "markdown",
   "metadata": {},
   "source": [
    "### 지역별 Must-Eat 결과 구글 스프레드시트 업로드 자동화"
   ]
  },
  {
   "cell_type": "code",
   "execution_count": 41,
   "metadata": {},
   "outputs": [],
   "source": [
    "def export_dataframe_to_google_sheet(worksheet, dataframe):\n",
    "\n",
    "    try:\n",
    "        \n",
    "        # 데이터프레임 삽입\n",
    "        worksheet.update([dataframe.columns.values.tolist()] + dataframe.values.tolist())\n",
    "\n",
    "        # 첫 행 Bold체\n",
    "        worksheet.format('1',{'textFormat': {'bold': True}})\n",
    "\n",
    "        # 모든 행 가운데 정렬\n",
    "        worksheet.format('1:{}'.format(len(temp)+1), {\"horizontalAlignment\": \"CENTER\"})\n",
    "\n",
    "        worksheet.format('1', \n",
    "                        {\"backgroundColor\": {\n",
    "                                            \"red\": 0.7,\n",
    "                                            \"green\": 0.8,\n",
    "                                            \"blue\": 0.7}}\n",
    "                                            )\n",
    "        \n",
    "    except Exception as e:\n",
    "        \n",
    "        print(e)"
   ]
  },
  {
   "cell_type": "code",
   "execution_count": 42,
   "metadata": {},
   "outputs": [],
   "source": [
    "# 해당 경로에 json 파일 위치해야함.\n",
    "json_file_path = \"stately-rock-392501-a2389e485ec7.json\"\n",
    "gc = gspread.service_account(json_file_path)\n",
    "spreadsheet_url = \"https://docs.google.com/spreadsheets/d/1kYttX_qWAVxqpUbPeiXpfMs9RUmyHlJKM7Jla7pb5r0/edit#gid=0\"\n",
    "doc = gc.open_by_url(spreadsheet_url)\n",
    "\n",
    "path_dir = 'C:/Users/Redtable/Desktop/hojin/Korea Travel Card/Must-Eat/0824_output/'\n",
    " \n",
    "file_list = os.listdir(path_dir)\n",
    "\n",
    "for file in file_list:\n",
    "\n",
    "    temp = pd.read_excel(path_dir + '/' + file)\n",
    "\n",
    "    worksheet = doc.add_worksheet(title='{}'.format(file.split('.')[0]), rows='{}'.format(len(temp)), cols='{}'.format(len(temp.columns)))\n",
    "\n",
    "    export_dataframe_to_google_sheet(worksheet, temp)\n",
    "\n",
    "    time.sleep(5)"
   ]
  }
 ],
 "metadata": {
  "kernelspec": {
   "display_name": "Python 3",
   "language": "python",
   "name": "python3"
  },
  "language_info": {
   "codemirror_mode": {
    "name": "ipython",
    "version": 3
   },
   "file_extension": ".py",
   "mimetype": "text/x-python",
   "name": "python",
   "nbconvert_exporter": "python",
   "pygments_lexer": "ipython3",
   "version": "3.11.3"
  },
  "orig_nbformat": 4
 },
 "nbformat": 4,
 "nbformat_minor": 2
}
